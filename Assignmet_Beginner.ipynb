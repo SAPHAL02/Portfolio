{
  "nbformat": 4,
  "nbformat_minor": 0,
  "metadata": {
    "colab": {
      "name": "Assignmet-Beginner.ipynb",
      "provenance": [],
      "collapsed_sections": [],
      "include_colab_link": true
    },
    "kernelspec": {
      "name": "python3",
      "display_name": "Python 3"
    },
    "language_info": {
      "name": "python"
    }
  },
  "cells": [
    {
      "cell_type": "markdown",
      "metadata": {
        "id": "view-in-github",
        "colab_type": "text"
      },
      "source": [
        "<a href=\"https://colab.research.google.com/github/SAPHAL02/Portfolio/blob/main/Assignmet_Beginner.ipynb\" target=\"_parent\"><img src=\"https://colab.research.google.com/assets/colab-badge.svg\" alt=\"Open In Colab\"/></a>"
      ]
    },
    {
      "cell_type": "markdown",
      "source": [
        "1. Python program to check whether the given number is even or not."
      ],
      "metadata": {
        "id": "_dW8HM3FNvi1"
      }
    },
    {
      "cell_type": "code",
      "execution_count": 13,
      "metadata": {
        "id": "vIn3O_QTM_KB",
        "outputId": "575b341e-6428-48ad-ff03-a68460f67319",
        "colab": {
          "base_uri": "https://localhost:8080/"
        }
      },
      "outputs": [
        {
          "output_type": "stream",
          "name": "stdout",
          "text": [
            "[2, 4, 6, 8, 10]\n"
          ]
        }
      ],
      "source": [
        "a=[1,2,3,4,5,6,7,8,9,10]\n",
        "b=[i for i in a if i%2==0]\n",
        "print(b)"
      ]
    },
    {
      "cell_type": "markdown",
      "source": [
        "2. Python program to convert the temperature in degree centigrade to Fahrenheit"
      ],
      "metadata": {
        "id": "RsMT0Mf8OHrC"
      }
    },
    {
      "cell_type": "code",
      "source": [
        "a=20\n",
        "b=a*(9/5)+32\n",
        "print(b)"
      ],
      "metadata": {
        "id": "tC8oLiWkOJ4B",
        "outputId": "8b49b4d5-71ad-4498-a609-720bfca6cac0",
        "colab": {
          "base_uri": "https://localhost:8080/"
        }
      },
      "execution_count": 17,
      "outputs": [
        {
          "output_type": "stream",
          "name": "stdout",
          "text": [
            "68.0\n"
          ]
        }
      ]
    },
    {
      "cell_type": "markdown",
      "source": [
        "3. Python program to find the area of a triangle whose sides are given"
      ],
      "metadata": {
        "id": "pENepki3OJay"
      }
    },
    {
      "cell_type": "code",
      "source": [
        "a=6\n",
        "b=7\n",
        "c=8\n",
        "s=(a+b+c)/2\n",
        "area=(s*(s-a)*(s-b)*(s-c))**0.5\n",
        "print(area)"
      ],
      "metadata": {
        "id": "VLa8FhlfOR0P",
        "outputId": "c232cd15-5732-45e6-9a4c-c8be410dd57d",
        "colab": {
          "base_uri": "https://localhost:8080/"
        }
      },
      "execution_count": 31,
      "outputs": [
        {
          "output_type": "stream",
          "name": "stdout",
          "text": [
            "20.33316256758894\n"
          ]
        }
      ]
    },
    {
      "cell_type": "markdown",
      "source": [
        "4. Python program to find out the average of a set of integers"
      ],
      "metadata": {
        "id": "wXEYACB2OSBo"
      }
    },
    {
      "cell_type": "code",
      "source": [
        ""
      ],
      "metadata": {
        "id": "WrgGF7qROURd"
      },
      "execution_count": null,
      "outputs": []
    },
    {
      "cell_type": "markdown",
      "source": [
        "5. Python program to find the product of a set of real numbers"
      ],
      "metadata": {
        "id": "uSsqz99FOUdn"
      }
    },
    {
      "cell_type": "code",
      "source": [
        ""
      ],
      "metadata": {
        "id": "94y3rMMgOX1F"
      },
      "execution_count": null,
      "outputs": []
    },
    {
      "cell_type": "markdown",
      "source": [
        "6. Python program to find the circumference and area of a circle with a given radius"
      ],
      "metadata": {
        "id": "DlN5GGiPOYDG"
      }
    },
    {
      "cell_type": "code",
      "source": [
        ""
      ],
      "metadata": {
        "id": "5P7NvFj0X4BH"
      },
      "execution_count": null,
      "outputs": []
    },
    {
      "cell_type": "markdown",
      "source": [
        "7. Python program to check whether the given integer is a multiple of 5"
      ],
      "metadata": {
        "id": "fWm66m6zOdMv"
      }
    },
    {
      "cell_type": "code",
      "source": [
        ""
      ],
      "metadata": {
        "id": "jK3-0ZqAOf5E"
      },
      "execution_count": null,
      "outputs": []
    },
    {
      "cell_type": "markdown",
      "source": [
        "8. Python program to check whether the given integer is a multiple of both 5 and 7"
      ],
      "metadata": {
        "id": "LnlrSvR1OgJs"
      }
    },
    {
      "cell_type": "code",
      "source": [
        "\n"
      ],
      "metadata": {
        "id": "pESqO3tcOid0"
      },
      "execution_count": null,
      "outputs": []
    },
    {
      "cell_type": "markdown",
      "source": [
        "9. Python program to find the average of 10 numbers using while loop"
      ],
      "metadata": {
        "id": "ImVd5fsyOiwz"
      }
    },
    {
      "cell_type": "code",
      "source": [
        ""
      ],
      "metadata": {
        "id": "IGMTA6v9Ok4Y"
      },
      "execution_count": null,
      "outputs": []
    },
    {
      "cell_type": "markdown",
      "source": [
        "10. Python program to find the sum of the digits of an integer using while loop.\n",
        "\n"
      ],
      "metadata": {
        "id": "thUUpLyUOlMk"
      }
    },
    {
      "cell_type": "code",
      "source": [
        ""
      ],
      "metadata": {
        "id": "xw019ptLbCKR"
      },
      "execution_count": null,
      "outputs": []
    },
    {
      "cell_type": "markdown",
      "source": [
        "11. Python program to check whether the given integer is a prime number or not"
      ],
      "metadata": {
        "id": "Z0vGSOBE_DnE"
      }
    },
    {
      "cell_type": "code",
      "source": [
        ""
      ],
      "metadata": {
        "id": "2hhhKdpn4_sr"
      },
      "execution_count": null,
      "outputs": []
    },
    {
      "cell_type": "markdown",
      "source": [
        "12. Python program to generate the prime numbers from 1 to N."
      ],
      "metadata": {
        "id": "Ze0pEE0N_RKE"
      }
    },
    {
      "cell_type": "code",
      "source": [
        "\n",
        "\n"
      ],
      "metadata": {
        "id": "ExzVx47b_YTG"
      },
      "execution_count": null,
      "outputs": []
    },
    {
      "cell_type": "markdown",
      "source": [
        "13.  Python program to find the factorial of a number"
      ],
      "metadata": {
        "id": "MT2hgI1E_Vik"
      }
    },
    {
      "cell_type": "code",
      "source": [
        ""
      ],
      "metadata": {
        "id": "TFLxAvlH_jeJ"
      },
      "execution_count": null,
      "outputs": []
    },
    {
      "cell_type": "markdown",
      "source": [
        "14. Python program to display the sum of n numbers using a list"
      ],
      "metadata": {
        "id": "aKULe5_o_lei"
      }
    },
    {
      "cell_type": "code",
      "source": [
        ""
      ],
      "metadata": {
        "id": "f6wi4YzB_s3e"
      },
      "execution_count": null,
      "outputs": []
    },
    {
      "cell_type": "markdown",
      "source": [
        "15. Python program to implement linear search\n",
        "Read about it from the internet"
      ],
      "metadata": {
        "id": "EpZGuKFN_3_Y"
      }
    },
    {
      "cell_type": "code",
      "source": [
        ""
      ],
      "metadata": {
        "id": "CTfOodeIACqH"
      },
      "execution_count": null,
      "outputs": []
    },
    {
      "cell_type": "markdown",
      "source": [
        "16. Python program to find the odd numbers in an array"
      ],
      "metadata": {
        "id": "BSxVTwoQADe8"
      }
    },
    {
      "cell_type": "code",
      "source": [
        ""
      ],
      "metadata": {
        "id": "2yBVu5qiAIzO"
      },
      "execution_count": null,
      "outputs": []
    },
    {
      "cell_type": "markdown",
      "source": [
        "17. Python program to find the largest number in a list without using built-in functions\n",
        "Don't use max()"
      ],
      "metadata": {
        "id": "MHk8GkMyAQ4b"
      }
    },
    {
      "cell_type": "code",
      "source": [
        "\n"
      ],
      "metadata": {
        "id": "MHQPW5idAjS2"
      },
      "execution_count": null,
      "outputs": []
    },
    {
      "cell_type": "markdown",
      "source": [
        "18. Python program to delete an element from a list by index."
      ],
      "metadata": {
        "id": "fNwLI_uTAtnX"
      }
    },
    {
      "cell_type": "code",
      "source": [
        ""
      ],
      "metadata": {
        "id": "eqL0xVLeAytv"
      },
      "execution_count": null,
      "outputs": []
    },
    {
      "cell_type": "markdown",
      "source": [
        "19. Python program to check leap year.\n",
        "Check the logic from internet"
      ],
      "metadata": {
        "id": "78kLf2hhA8VZ"
      }
    },
    {
      "cell_type": "code",
      "source": [
        ""
      ],
      "metadata": {
        "id": "DCZPTpsAi3_h"
      },
      "execution_count": null,
      "outputs": []
    },
    {
      "cell_type": "markdown",
      "source": [
        "20. Python program to find the Nth term in a Fibonacci series using recursion"
      ],
      "metadata": {
        "id": "IGeX8K55BMBI"
      }
    },
    {
      "cell_type": "code",
      "source": [
        "\n"
      ],
      "metadata": {
        "id": "PoMYb91QBR5n"
      },
      "execution_count": null,
      "outputs": []
    }
  ]
}